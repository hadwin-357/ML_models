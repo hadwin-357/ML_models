{
  "cells": [
    {
      "cell_type": "markdown",
      "metadata": {
        "id": "view-in-github",
        "colab_type": "text"
      },
      "source": [
        "<a href=\"https://colab.research.google.com/github/hadwin-357/ML_models/blob/main/SupportVecotrMachine_kernel_hyperparameter_feature_select.ipynb\" target=\"_parent\"><img src=\"https://colab.research.google.com/assets/colab-badge.svg\" alt=\"Open In Colab\"/></a>"
      ]
    },
    {
      "cell_type": "markdown",
      "source": [
        "#**Support Vector Machine**\n",
        "1. linear model costom implementation through Gradient Descent\n",
        "2. using sklearn (kernelized, linear, poly, rbf)\n",
        "3. testing hyperparameter optimization\n",
        "4. show case feature selection\n",
        "\n",
        "[SVM thory_Cornell_online_course](https://www.cs.cornell.edu/courses/cs4780/2018fa/lectures/lecturenote14.html)\n"
      ],
      "metadata": {
        "id": "6a_9CI5ynptx"
      }
    },
    {
      "cell_type": "markdown",
      "metadata": {
        "id": "5kiGss7JaXAh"
      },
      "source": [
        "Loss function:  Hinge loss + regularization\n",
        "\n"
      ]
    },
    {
      "cell_type": "code",
      "execution_count": 2,
      "metadata": {
        "id": "Y6B7UVG7RBS1"
      },
      "outputs": [],
      "source": [
        "# Part I, from scratch\n",
        "\n",
        "import numpy as np\n",
        "\n",
        "class SVM():\n",
        "  def __init__(self, lr=0.01, lambda_param=0.01, n_iters=500): # lambda_params: larger, more regularization\n",
        "    self.lr = lr\n",
        "    self.lambda_param = lambda_param\n",
        "    self.n_iters = n_iters\n",
        "    self.weight= None # initalize after knowing feature dimension\n",
        "    self.bias = 0\n",
        "\n",
        "  def training(self, X, y):\n",
        "    ''' fitting the wight and bias without gradient descent\n",
        "    Args:\n",
        "    X: n sample with d dimension features\n",
        "    y: label (1, or -1)\n",
        "    at hyperplane: W.t*X-b =0;\n",
        "    at supporting vector: W.t*X-b = 1, or -1\n",
        "    when misclassifized, y(W.t*X-b) <1, derive gradient on both loss_fun and regularization\n",
        "    others time, only regularization\n",
        "\n",
        "    return: self.weight, self.bias\n",
        "    '''\n",
        "    n_samples, n_features = X.shape\n",
        "    #make sure y is either 1 or -1\n",
        "    y_ = np.where (y<=0, -1, 1)\n",
        "    # initialize weight with zero\n",
        "    self.weight =np.zeros(n_features)\n",
        "    # loop through data to do minimization by n_iters\n",
        "    for _ in range(self.n_iters):\n",
        "      #check condition\n",
        "      for idx, x_i in enumerate(X):\n",
        "        condition = y_[idx]*(np.dot(x_i, self.weight)-self.bias)>=1\n",
        "        if condition: # right classification\n",
        "          self.weight -=self.lr*(2*self.lambda_param*self.weight )\n",
        "        else:\n",
        "          self.weight-= self.lr*(2*self.lambda_param*self.weight-np.dot(x_i,y_[idx]))\n",
        "          self.bias -= self.lr*y_[idx]\n",
        "    return self.weight, self.bias\n",
        "\n",
        "  def predict(self, X):\n",
        "    pred = np.dot(X, self.weight)-self.bias   # <0 -1, >0 +1\n",
        "    return np.sign(pred)\n"
      ]
    },
    {
      "cell_type": "code",
      "execution_count": 3,
      "metadata": {
        "id": "Vq2evwImsTZR"
      },
      "outputs": [],
      "source": [
        "from timeit import default_timer as timer\n",
        "def print_train_time(start: float, end: float):\n",
        "    \"\"\"Prints difference between start and end time.\n",
        "\n",
        "    Args:\n",
        "        start (float): Start time of computation (preferred in timeit format).\n",
        "        end (float): End time of computation.\n",
        "        device ([type], optional): Device that compute is running on. Defaults to None.\n",
        "\n",
        "    Returns:\n",
        "        float: time between start and end in seconds (higher is longer).\n",
        "    \"\"\"\n",
        "    total_time = end - start\n",
        "    print(f\"Train time : {total_time:.3f} seconds\")\n",
        "    return total_time"
      ]
    },
    {
      "cell_type": "code",
      "execution_count": 4,
      "metadata": {
        "colab": {
          "base_uri": "https://localhost:8080/"
        },
        "id": "PPdkuPZskqJ2",
        "outputId": "9df8e4fc-6c4f-45bd-c5f1-494d0d4a0113"
      },
      "outputs": [
        {
          "output_type": "stream",
          "name": "stdout",
          "text": [
            "569 of data with 30 features\n",
            "lable: ['malignant' 'benign']\n"
          ]
        }
      ],
      "source": [
        "# train and test using sklearn datasets\n",
        "from sklearn import datasets\n",
        "cancer = datasets.load_breast_cancer()\n",
        "#knowing the data\n",
        "print(f\"{cancer['data'].shape[0]} of data with {cancer['data'].shape[1]} features\")\n",
        "print('lable:',cancer.target_names)\n",
        "\n"
      ]
    },
    {
      "cell_type": "code",
      "execution_count": 5,
      "metadata": {
        "colab": {
          "base_uri": "https://localhost:8080/"
        },
        "id": "9ZxZ53nVnzLc",
        "outputId": "2410e986-c390-4b5f-a021-7baeca2111a8"
      },
      "outputs": [
        {
          "output_type": "execute_result",
          "data": {
            "text/plain": [
              "array([0, 0, 0, 0, 0])"
            ]
          },
          "metadata": {},
          "execution_count": 5
        }
      ],
      "source": [
        "cancer['target'][:5]"
      ]
    },
    {
      "cell_type": "code",
      "execution_count": 6,
      "metadata": {
        "colab": {
          "base_uri": "https://localhost:8080/"
        },
        "id": "0qjotFFplXsd",
        "outputId": "1b3888e5-2f3a-464c-b74e-ad6a36f6aa89"
      },
      "outputs": [
        {
          "output_type": "stream",
          "name": "stdout",
          "text": [
            "accuracy score: 0.9473684210526315\n",
            "confusion matrix:[[37  6]\n",
            " [ 0 71]]\n",
            "Train time : 2.751 seconds\n"
          ]
        },
        {
          "output_type": "execute_result",
          "data": {
            "text/plain": [
              "2.7507061559999926"
            ]
          },
          "metadata": {},
          "execution_count": 6
        }
      ],
      "source": [
        "# convert label(0, 1) to (-1, 1)\n",
        "\n",
        "y= np.where(cancer['target']==0, -1, 1)\n",
        "\n",
        "from sklearn.model_selection import train_test_split\n",
        "from sklearn.metrics import accuracy_score, confusion_matrix\n",
        "X_train, X_test, y_train, y_test = train_test_split(\n",
        "        cancer['data'], y, test_size=0.2, random_state=42\n",
        "    )\n",
        "start_time=timer()\n",
        "model_0 = SVM()\n",
        "model_0.training(X_train, y_train)\n",
        "pred =model_0.predict(X_test)\n",
        "end_time =timer()\n",
        "\n",
        "print(f'accuracy score: {accuracy_score(y_test, pred)}')\n",
        "print(f\"confusion matrix:{confusion_matrix(y_test,pred)}\")\n",
        "print_train_time(start_time, end_time)\n"
      ]
    },
    {
      "cell_type": "code",
      "execution_count": 7,
      "metadata": {
        "colab": {
          "base_uri": "https://localhost:8080/"
        },
        "id": "Eoh3wn2x1KSW",
        "outputId": "5a36aa04-d6db-4154-a1f2-8754f71ff524"
      },
      "outputs": [
        {
          "output_type": "stream",
          "name": "stdout",
          "text": [
            "accuracy score: 0.956140350877193\n",
            "confusion matrix:[[39  4]\n",
            " [ 1 70]]\n",
            "Train time : 2.554 seconds\n"
          ]
        },
        {
          "output_type": "execute_result",
          "data": {
            "text/plain": [
              "2.5535501600000003"
            ]
          },
          "metadata": {},
          "execution_count": 7
        }
      ],
      "source": [
        "# use sklearn package\n",
        "from sklearn import svm\n",
        "#create model\n",
        "start_time=timer()\n",
        "model_1 = svm.SVC(kernel='linear')\n",
        "model_1.fit(X_train, y_train)\n",
        "y_pred =model_1.predict(X_test)\n",
        "end_time=timer()\n",
        "\n",
        "print(f'accuracy score: {accuracy_score(y_test, y_pred)}')\n",
        "print(f\"confusion matrix:{confusion_matrix(y_test,y_pred)}\")\n",
        "print_train_time(start_time,end_time)"
      ]
    },
    {
      "cell_type": "code",
      "source": [
        "#grid search hyperparameter C\n",
        "from sklearn.model_selection import GridSearchCV\n",
        "param_grids = [{'C': [15,14,13,12,11,10,1,0.1,0.001]}]\n",
        "grid = GridSearchCV(model_1, param_grids, cv=10)\n",
        "grid.fit(X_train,y_train)"
      ],
      "metadata": {
        "colab": {
          "base_uri": "https://localhost:8080/",
          "height": 204
        },
        "id": "EcD13QUMtp8m",
        "outputId": "5e428b47-5eb6-4185-ffa2-1a459562b025"
      },
      "execution_count": 10,
      "outputs": [
        {
          "data": {
            "text/html": [
              "<style>#sk-container-id-1 {color: black;background-color: white;}#sk-container-id-1 pre{padding: 0;}#sk-container-id-1 div.sk-toggleable {background-color: white;}#sk-container-id-1 label.sk-toggleable__label {cursor: pointer;display: block;width: 100%;margin-bottom: 0;padding: 0.3em;box-sizing: border-box;text-align: center;}#sk-container-id-1 label.sk-toggleable__label-arrow:before {content: \"▸\";float: left;margin-right: 0.25em;color: #696969;}#sk-container-id-1 label.sk-toggleable__label-arrow:hover:before {color: black;}#sk-container-id-1 div.sk-estimator:hover label.sk-toggleable__label-arrow:before {color: black;}#sk-container-id-1 div.sk-toggleable__content {max-height: 0;max-width: 0;overflow: hidden;text-align: left;background-color: #f0f8ff;}#sk-container-id-1 div.sk-toggleable__content pre {margin: 0.2em;color: black;border-radius: 0.25em;background-color: #f0f8ff;}#sk-container-id-1 input.sk-toggleable__control:checked~div.sk-toggleable__content {max-height: 200px;max-width: 100%;overflow: auto;}#sk-container-id-1 input.sk-toggleable__control:checked~label.sk-toggleable__label-arrow:before {content: \"▾\";}#sk-container-id-1 div.sk-estimator input.sk-toggleable__control:checked~label.sk-toggleable__label {background-color: #d4ebff;}#sk-container-id-1 div.sk-label input.sk-toggleable__control:checked~label.sk-toggleable__label {background-color: #d4ebff;}#sk-container-id-1 input.sk-hidden--visually {border: 0;clip: rect(1px 1px 1px 1px);clip: rect(1px, 1px, 1px, 1px);height: 1px;margin: -1px;overflow: hidden;padding: 0;position: absolute;width: 1px;}#sk-container-id-1 div.sk-estimator {font-family: monospace;background-color: #f0f8ff;border: 1px dotted black;border-radius: 0.25em;box-sizing: border-box;margin-bottom: 0.5em;}#sk-container-id-1 div.sk-estimator:hover {background-color: #d4ebff;}#sk-container-id-1 div.sk-parallel-item::after {content: \"\";width: 100%;border-bottom: 1px solid gray;flex-grow: 1;}#sk-container-id-1 div.sk-label:hover label.sk-toggleable__label {background-color: #d4ebff;}#sk-container-id-1 div.sk-serial::before {content: \"\";position: absolute;border-left: 1px solid gray;box-sizing: border-box;top: 0;bottom: 0;left: 50%;z-index: 0;}#sk-container-id-1 div.sk-serial {display: flex;flex-direction: column;align-items: center;background-color: white;padding-right: 0.2em;padding-left: 0.2em;position: relative;}#sk-container-id-1 div.sk-item {position: relative;z-index: 1;}#sk-container-id-1 div.sk-parallel {display: flex;align-items: stretch;justify-content: center;background-color: white;position: relative;}#sk-container-id-1 div.sk-item::before, #sk-container-id-1 div.sk-parallel-item::before {content: \"\";position: absolute;border-left: 1px solid gray;box-sizing: border-box;top: 0;bottom: 0;left: 50%;z-index: -1;}#sk-container-id-1 div.sk-parallel-item {display: flex;flex-direction: column;z-index: 1;position: relative;background-color: white;}#sk-container-id-1 div.sk-parallel-item:first-child::after {align-self: flex-end;width: 50%;}#sk-container-id-1 div.sk-parallel-item:last-child::after {align-self: flex-start;width: 50%;}#sk-container-id-1 div.sk-parallel-item:only-child::after {width: 0;}#sk-container-id-1 div.sk-dashed-wrapped {border: 1px dashed gray;margin: 0 0.4em 0.5em 0.4em;box-sizing: border-box;padding-bottom: 0.4em;background-color: white;}#sk-container-id-1 div.sk-label label {font-family: monospace;font-weight: bold;display: inline-block;line-height: 1.2em;}#sk-container-id-1 div.sk-label-container {text-align: center;}#sk-container-id-1 div.sk-container {/* jupyter's `normalize.less` sets `[hidden] { display: none; }` but bootstrap.min.css set `[hidden] { display: none !important; }` so we also need the `!important` here to be able to override the default hidden behavior on the sphinx rendered scikit-learn.org. See: https://github.com/scikit-learn/scikit-learn/issues/21755 */display: inline-block !important;position: relative;}#sk-container-id-1 div.sk-text-repr-fallback {display: none;}</style><div id=\"sk-container-id-1\" class=\"sk-top-container\"><div class=\"sk-text-repr-fallback\"><pre>GridSearchCV(cv=10, estimator=SVC(kernel=&#x27;linear&#x27;),\n",
              "             param_grid=[{&#x27;C&#x27;: [15, 14, 13, 12, 11, 10, 1, 0.1, 0.001]}])</pre><b>In a Jupyter environment, please rerun this cell to show the HTML representation or trust the notebook. <br />On GitHub, the HTML representation is unable to render, please try loading this page with nbviewer.org.</b></div><div class=\"sk-container\" hidden><div class=\"sk-item sk-dashed-wrapped\"><div class=\"sk-label-container\"><div class=\"sk-label sk-toggleable\"><input class=\"sk-toggleable__control sk-hidden--visually\" id=\"sk-estimator-id-1\" type=\"checkbox\" ><label for=\"sk-estimator-id-1\" class=\"sk-toggleable__label sk-toggleable__label-arrow\">GridSearchCV</label><div class=\"sk-toggleable__content\"><pre>GridSearchCV(cv=10, estimator=SVC(kernel=&#x27;linear&#x27;),\n",
              "             param_grid=[{&#x27;C&#x27;: [15, 14, 13, 12, 11, 10, 1, 0.1, 0.001]}])</pre></div></div></div><div class=\"sk-parallel\"><div class=\"sk-parallel-item\"><div class=\"sk-item\"><div class=\"sk-label-container\"><div class=\"sk-label sk-toggleable\"><input class=\"sk-toggleable__control sk-hidden--visually\" id=\"sk-estimator-id-2\" type=\"checkbox\" ><label for=\"sk-estimator-id-2\" class=\"sk-toggleable__label sk-toggleable__label-arrow\">estimator: SVC</label><div class=\"sk-toggleable__content\"><pre>SVC(kernel=&#x27;linear&#x27;)</pre></div></div></div><div class=\"sk-serial\"><div class=\"sk-item\"><div class=\"sk-estimator sk-toggleable\"><input class=\"sk-toggleable__control sk-hidden--visually\" id=\"sk-estimator-id-3\" type=\"checkbox\" ><label for=\"sk-estimator-id-3\" class=\"sk-toggleable__label sk-toggleable__label-arrow\">SVC</label><div class=\"sk-toggleable__content\"><pre>SVC(kernel=&#x27;linear&#x27;)</pre></div></div></div></div></div></div></div></div></div></div>"
            ],
            "text/plain": [
              "GridSearchCV(cv=10, estimator=SVC(kernel='linear'),\n",
              "             param_grid=[{'C': [15, 14, 13, 12, 11, 10, 1, 0.1, 0.001]}])"
            ]
          },
          "execution_count": 10,
          "metadata": {},
          "output_type": "execute_result"
        }
      ]
    },
    {
      "cell_type": "code",
      "source": [
        "grid.best_score_, grid.best_params_"
      ],
      "metadata": {
        "colab": {
          "base_uri": "https://localhost:8080/"
        },
        "id": "VSGQtiI2u35L",
        "outputId": "fe05f4e9-f678-4f2d-9ab4-0bf5296bdd72"
      },
      "execution_count": 11,
      "outputs": [
        {
          "output_type": "execute_result",
          "data": {
            "text/plain": [
              "(0.9603864734299516, {'C': 15})"
            ]
          },
          "metadata": {},
          "execution_count": 11
        }
      ]
    },
    {
      "cell_type": "code",
      "source": [
        "start_time=timer()\n",
        "model_1 = svm.SVC(kernel='linear', C =15)\n",
        "model_1.fit(X_train, y_train)\n",
        "y_pred =model_1.predict(X_test)\n",
        "end_time=timer()\n",
        "\n",
        "print(f'accuracy score: {accuracy_score(y_test, y_pred)}')\n",
        "print(f\"confusion matrix:{confusion_matrix(y_test,y_pred)}\")\n",
        "print_train_time(start_time,end_time)"
      ],
      "metadata": {
        "colab": {
          "base_uri": "https://localhost:8080/"
        },
        "id": "tP2rs-3hwmHQ",
        "outputId": "d12e86b2-5ed7-4058-c0f0-d1266fe28fd2"
      },
      "execution_count": 12,
      "outputs": [
        {
          "output_type": "stream",
          "name": "stdout",
          "text": [
            "accuracy score: 0.956140350877193\n",
            "confusion matrix:[[39  4]\n",
            " [ 1 70]]\n",
            "Train time : 10.627 seconds\n"
          ]
        },
        {
          "output_type": "execute_result",
          "data": {
            "text/plain": [
              "10.627241339999955"
            ]
          },
          "metadata": {},
          "execution_count": 12
        }
      ]
    },
    {
      "cell_type": "code",
      "execution_count": 14,
      "metadata": {
        "colab": {
          "base_uri": "https://localhost:8080/"
        },
        "id": "0nHdEJWD1y8Z",
        "outputId": "04601885-2174-4fa2-86d9-03c48d2ae2d4"
      },
      "outputs": [
        {
          "output_type": "stream",
          "name": "stdout",
          "text": [
            "accuracy score: 0.6228070175438597\n",
            "train accuracy score: 1.0\n",
            "confusion matrix:[[ 0 43]\n",
            " [ 0 71]]\n",
            "Train time : 0.028 seconds\n"
          ]
        },
        {
          "output_type": "execute_result",
          "data": {
            "text/plain": [
              "0.027636909999955606"
            ]
          },
          "metadata": {},
          "execution_count": 14
        }
      ],
      "source": [
        "# 'rbf kernel'\n",
        "from sklearn import svm\n",
        "#hyperparameter: C, penalty for misclassifed data point, gamma:0.0001-10 the more, more prone to overfitting\n",
        "#create model\n",
        "start_time =timer()\n",
        "model_2 = svm.SVC(kernel='rbf', C=10, gamma='auto')  #\n",
        "model_2.fit(X_train, y_train)\n",
        "y_pred =model_2.predict(X_test)\n",
        "end_time =timer()\n",
        "print(f'accuracy score: {accuracy_score(y_test, y_pred)}')\n",
        "print(f'train accuracy score: {accuracy_score(y_train, model_2.predict(X_train))}')\n",
        "print(f\"confusion matrix:{confusion_matrix(y_test,y_pred)}\")\n",
        "print_train_time(start_time, end_time)"
      ]
    },
    {
      "cell_type": "code",
      "source": [
        "from sklearn.model_selection import GridSearchCV\n",
        "param_grids = [{'C': [15,14,13,12,11,10,1,0.1,0.001],'gamma':[0.0001, 0.001,0.1, 1]}]\n",
        "grid = GridSearchCV(model_2, param_grids, cv=5)\n",
        "grid.fit(X_train,y_train)"
      ],
      "metadata": {
        "colab": {
          "base_uri": "https://localhost:8080/",
          "height": 221
        },
        "id": "QpLoyZXqyP4M",
        "outputId": "d2c9d854-7b68-481e-e5fd-d2969520852c"
      },
      "execution_count": 15,
      "outputs": [
        {
          "output_type": "execute_result",
          "data": {
            "text/plain": [
              "GridSearchCV(cv=5, estimator=SVC(C=10, gamma='auto'),\n",
              "             param_grid=[{'C': [15, 14, 13, 12, 11, 10, 1, 0.1, 0.001],\n",
              "                          'gamma': [0.0001, 0.001, 0.1, 1]}])"
            ],
            "text/html": [
              "<style>#sk-container-id-2 {color: black;background-color: white;}#sk-container-id-2 pre{padding: 0;}#sk-container-id-2 div.sk-toggleable {background-color: white;}#sk-container-id-2 label.sk-toggleable__label {cursor: pointer;display: block;width: 100%;margin-bottom: 0;padding: 0.3em;box-sizing: border-box;text-align: center;}#sk-container-id-2 label.sk-toggleable__label-arrow:before {content: \"▸\";float: left;margin-right: 0.25em;color: #696969;}#sk-container-id-2 label.sk-toggleable__label-arrow:hover:before {color: black;}#sk-container-id-2 div.sk-estimator:hover label.sk-toggleable__label-arrow:before {color: black;}#sk-container-id-2 div.sk-toggleable__content {max-height: 0;max-width: 0;overflow: hidden;text-align: left;background-color: #f0f8ff;}#sk-container-id-2 div.sk-toggleable__content pre {margin: 0.2em;color: black;border-radius: 0.25em;background-color: #f0f8ff;}#sk-container-id-2 input.sk-toggleable__control:checked~div.sk-toggleable__content {max-height: 200px;max-width: 100%;overflow: auto;}#sk-container-id-2 input.sk-toggleable__control:checked~label.sk-toggleable__label-arrow:before {content: \"▾\";}#sk-container-id-2 div.sk-estimator input.sk-toggleable__control:checked~label.sk-toggleable__label {background-color: #d4ebff;}#sk-container-id-2 div.sk-label input.sk-toggleable__control:checked~label.sk-toggleable__label {background-color: #d4ebff;}#sk-container-id-2 input.sk-hidden--visually {border: 0;clip: rect(1px 1px 1px 1px);clip: rect(1px, 1px, 1px, 1px);height: 1px;margin: -1px;overflow: hidden;padding: 0;position: absolute;width: 1px;}#sk-container-id-2 div.sk-estimator {font-family: monospace;background-color: #f0f8ff;border: 1px dotted black;border-radius: 0.25em;box-sizing: border-box;margin-bottom: 0.5em;}#sk-container-id-2 div.sk-estimator:hover {background-color: #d4ebff;}#sk-container-id-2 div.sk-parallel-item::after {content: \"\";width: 100%;border-bottom: 1px solid gray;flex-grow: 1;}#sk-container-id-2 div.sk-label:hover label.sk-toggleable__label {background-color: #d4ebff;}#sk-container-id-2 div.sk-serial::before {content: \"\";position: absolute;border-left: 1px solid gray;box-sizing: border-box;top: 0;bottom: 0;left: 50%;z-index: 0;}#sk-container-id-2 div.sk-serial {display: flex;flex-direction: column;align-items: center;background-color: white;padding-right: 0.2em;padding-left: 0.2em;position: relative;}#sk-container-id-2 div.sk-item {position: relative;z-index: 1;}#sk-container-id-2 div.sk-parallel {display: flex;align-items: stretch;justify-content: center;background-color: white;position: relative;}#sk-container-id-2 div.sk-item::before, #sk-container-id-2 div.sk-parallel-item::before {content: \"\";position: absolute;border-left: 1px solid gray;box-sizing: border-box;top: 0;bottom: 0;left: 50%;z-index: -1;}#sk-container-id-2 div.sk-parallel-item {display: flex;flex-direction: column;z-index: 1;position: relative;background-color: white;}#sk-container-id-2 div.sk-parallel-item:first-child::after {align-self: flex-end;width: 50%;}#sk-container-id-2 div.sk-parallel-item:last-child::after {align-self: flex-start;width: 50%;}#sk-container-id-2 div.sk-parallel-item:only-child::after {width: 0;}#sk-container-id-2 div.sk-dashed-wrapped {border: 1px dashed gray;margin: 0 0.4em 0.5em 0.4em;box-sizing: border-box;padding-bottom: 0.4em;background-color: white;}#sk-container-id-2 div.sk-label label {font-family: monospace;font-weight: bold;display: inline-block;line-height: 1.2em;}#sk-container-id-2 div.sk-label-container {text-align: center;}#sk-container-id-2 div.sk-container {/* jupyter's `normalize.less` sets `[hidden] { display: none; }` but bootstrap.min.css set `[hidden] { display: none !important; }` so we also need the `!important` here to be able to override the default hidden behavior on the sphinx rendered scikit-learn.org. See: https://github.com/scikit-learn/scikit-learn/issues/21755 */display: inline-block !important;position: relative;}#sk-container-id-2 div.sk-text-repr-fallback {display: none;}</style><div id=\"sk-container-id-2\" class=\"sk-top-container\"><div class=\"sk-text-repr-fallback\"><pre>GridSearchCV(cv=5, estimator=SVC(C=10, gamma=&#x27;auto&#x27;),\n",
              "             param_grid=[{&#x27;C&#x27;: [15, 14, 13, 12, 11, 10, 1, 0.1, 0.001],\n",
              "                          &#x27;gamma&#x27;: [0.0001, 0.001, 0.1, 1]}])</pre><b>In a Jupyter environment, please rerun this cell to show the HTML representation or trust the notebook. <br />On GitHub, the HTML representation is unable to render, please try loading this page with nbviewer.org.</b></div><div class=\"sk-container\" hidden><div class=\"sk-item sk-dashed-wrapped\"><div class=\"sk-label-container\"><div class=\"sk-label sk-toggleable\"><input class=\"sk-toggleable__control sk-hidden--visually\" id=\"sk-estimator-id-4\" type=\"checkbox\" ><label for=\"sk-estimator-id-4\" class=\"sk-toggleable__label sk-toggleable__label-arrow\">GridSearchCV</label><div class=\"sk-toggleable__content\"><pre>GridSearchCV(cv=5, estimator=SVC(C=10, gamma=&#x27;auto&#x27;),\n",
              "             param_grid=[{&#x27;C&#x27;: [15, 14, 13, 12, 11, 10, 1, 0.1, 0.001],\n",
              "                          &#x27;gamma&#x27;: [0.0001, 0.001, 0.1, 1]}])</pre></div></div></div><div class=\"sk-parallel\"><div class=\"sk-parallel-item\"><div class=\"sk-item\"><div class=\"sk-label-container\"><div class=\"sk-label sk-toggleable\"><input class=\"sk-toggleable__control sk-hidden--visually\" id=\"sk-estimator-id-5\" type=\"checkbox\" ><label for=\"sk-estimator-id-5\" class=\"sk-toggleable__label sk-toggleable__label-arrow\">estimator: SVC</label><div class=\"sk-toggleable__content\"><pre>SVC(C=10, gamma=&#x27;auto&#x27;)</pre></div></div></div><div class=\"sk-serial\"><div class=\"sk-item\"><div class=\"sk-estimator sk-toggleable\"><input class=\"sk-toggleable__control sk-hidden--visually\" id=\"sk-estimator-id-6\" type=\"checkbox\" ><label for=\"sk-estimator-id-6\" class=\"sk-toggleable__label sk-toggleable__label-arrow\">SVC</label><div class=\"sk-toggleable__content\"><pre>SVC(C=10, gamma=&#x27;auto&#x27;)</pre></div></div></div></div></div></div></div></div></div></div>"
            ]
          },
          "metadata": {},
          "execution_count": 15
        }
      ]
    },
    {
      "cell_type": "code",
      "source": [
        "grid.best_score_, grid.best_params_"
      ],
      "metadata": {
        "colab": {
          "base_uri": "https://localhost:8080/"
        },
        "id": "r5GO8bKAyvzJ",
        "outputId": "28f50aeb-05e7-4308-b5bc-40c11681595f"
      },
      "execution_count": 16,
      "outputs": [
        {
          "output_type": "execute_result",
          "data": {
            "text/plain": [
              "(0.9538461538461538, {'C': 15, 'gamma': 0.0001})"
            ]
          },
          "metadata": {},
          "execution_count": 16
        }
      ]
    },
    {
      "cell_type": "code",
      "source": [
        "start_time =timer()\n",
        "model_2 = svm.SVC(kernel='rbf', C=15, gamma=0.0001)  #\n",
        "model_2.fit(X_train, y_train)\n",
        "y_pred =model_2.predict(X_test)\n",
        "end_time =timer()\n",
        "print(f'accuracy score: {accuracy_score(y_test, y_pred)}')\n",
        "print(f'train accuracy score: {accuracy_score(y_train, model_2.predict(X_train))}')\n",
        "print(f\"confusion matrix:{confusion_matrix(y_test,y_pred)}\")\n",
        "print_train_time(start_time, end_time)"
      ],
      "metadata": {
        "colab": {
          "base_uri": "https://localhost:8080/"
        },
        "id": "brGX8Pajy378",
        "outputId": "63bf5f6d-da30-45c0-b8e7-72bc14ad7507"
      },
      "execution_count": 17,
      "outputs": [
        {
          "output_type": "stream",
          "name": "stdout",
          "text": [
            "accuracy score: 0.9473684210526315\n",
            "train accuracy score: 0.978021978021978\n",
            "confusion matrix:[[40  3]\n",
            " [ 3 68]]\n",
            "Train time : 0.024 seconds\n"
          ]
        },
        {
          "output_type": "execute_result",
          "data": {
            "text/plain": [
              "0.023895140000149695"
            ]
          },
          "metadata": {},
          "execution_count": 17
        }
      ]
    },
    {
      "cell_type": "code",
      "execution_count": 27,
      "metadata": {
        "colab": {
          "base_uri": "https://localhost:8080/"
        },
        "id": "aZpvjLoP2Alo",
        "outputId": "531a7dc2-7ca3-4711-f2bf-71b64697cd41"
      },
      "outputs": [
        {
          "output_type": "stream",
          "name": "stdout",
          "text": [
            "accuracy score: 0.9473684210526315\n",
            "train accuracy score: 0.9164835164835164\n",
            "confusion matrix:[[37  6]\n",
            " [ 0 71]]\n",
            "Train time : 0.009 seconds\n"
          ]
        },
        {
          "output_type": "execute_result",
          "data": {
            "text/plain": [
              "0.008996990000014193"
            ]
          },
          "metadata": {},
          "execution_count": 27
        }
      ],
      "source": [
        "# poly kernel\n",
        "from sklearn import svm\n",
        "#create model\n",
        "start_time =timer()\n",
        "model_3 = svm.SVC(kernel='poly', C=5, degree=3)  #\n",
        "model_3.fit(X_train, y_train)\n",
        "y_pred =model_3.predict(X_test)\n",
        "end_time =timer()\n",
        "print(f'accuracy score: {accuracy_score(y_test, y_pred)}')\n",
        "print(f'train accuracy score: {accuracy_score(y_train, model_3.predict(X_train))}')\n",
        "print(f\"confusion matrix:{confusion_matrix(y_test,y_pred)}\")\n",
        "print_train_time(start_time, end_time)"
      ]
    },
    {
      "cell_type": "code",
      "execution_count": 21,
      "metadata": {
        "id": "nEQ9-Gdv5Zy9",
        "colab": {
          "base_uri": "https://localhost:8080/",
          "height": 221
        },
        "outputId": "a3fe2656-0f94-4a12-9c4b-9652ae0c72a7"
      },
      "outputs": [
        {
          "output_type": "execute_result",
          "data": {
            "text/plain": [
              "GridSearchCV(cv=5, estimator=SVC(C=5, degree=4, kernel='poly'),\n",
              "             param_grid=[{'C': [15, 14, 13, 12, 11, 10, 1, 0.1, 0.001],\n",
              "                          'degree': [1, 2, 3, 4, 5, 6, 7]}])"
            ],
            "text/html": [
              "<style>#sk-container-id-3 {color: black;background-color: white;}#sk-container-id-3 pre{padding: 0;}#sk-container-id-3 div.sk-toggleable {background-color: white;}#sk-container-id-3 label.sk-toggleable__label {cursor: pointer;display: block;width: 100%;margin-bottom: 0;padding: 0.3em;box-sizing: border-box;text-align: center;}#sk-container-id-3 label.sk-toggleable__label-arrow:before {content: \"▸\";float: left;margin-right: 0.25em;color: #696969;}#sk-container-id-3 label.sk-toggleable__label-arrow:hover:before {color: black;}#sk-container-id-3 div.sk-estimator:hover label.sk-toggleable__label-arrow:before {color: black;}#sk-container-id-3 div.sk-toggleable__content {max-height: 0;max-width: 0;overflow: hidden;text-align: left;background-color: #f0f8ff;}#sk-container-id-3 div.sk-toggleable__content pre {margin: 0.2em;color: black;border-radius: 0.25em;background-color: #f0f8ff;}#sk-container-id-3 input.sk-toggleable__control:checked~div.sk-toggleable__content {max-height: 200px;max-width: 100%;overflow: auto;}#sk-container-id-3 input.sk-toggleable__control:checked~label.sk-toggleable__label-arrow:before {content: \"▾\";}#sk-container-id-3 div.sk-estimator input.sk-toggleable__control:checked~label.sk-toggleable__label {background-color: #d4ebff;}#sk-container-id-3 div.sk-label input.sk-toggleable__control:checked~label.sk-toggleable__label {background-color: #d4ebff;}#sk-container-id-3 input.sk-hidden--visually {border: 0;clip: rect(1px 1px 1px 1px);clip: rect(1px, 1px, 1px, 1px);height: 1px;margin: -1px;overflow: hidden;padding: 0;position: absolute;width: 1px;}#sk-container-id-3 div.sk-estimator {font-family: monospace;background-color: #f0f8ff;border: 1px dotted black;border-radius: 0.25em;box-sizing: border-box;margin-bottom: 0.5em;}#sk-container-id-3 div.sk-estimator:hover {background-color: #d4ebff;}#sk-container-id-3 div.sk-parallel-item::after {content: \"\";width: 100%;border-bottom: 1px solid gray;flex-grow: 1;}#sk-container-id-3 div.sk-label:hover label.sk-toggleable__label {background-color: #d4ebff;}#sk-container-id-3 div.sk-serial::before {content: \"\";position: absolute;border-left: 1px solid gray;box-sizing: border-box;top: 0;bottom: 0;left: 50%;z-index: 0;}#sk-container-id-3 div.sk-serial {display: flex;flex-direction: column;align-items: center;background-color: white;padding-right: 0.2em;padding-left: 0.2em;position: relative;}#sk-container-id-3 div.sk-item {position: relative;z-index: 1;}#sk-container-id-3 div.sk-parallel {display: flex;align-items: stretch;justify-content: center;background-color: white;position: relative;}#sk-container-id-3 div.sk-item::before, #sk-container-id-3 div.sk-parallel-item::before {content: \"\";position: absolute;border-left: 1px solid gray;box-sizing: border-box;top: 0;bottom: 0;left: 50%;z-index: -1;}#sk-container-id-3 div.sk-parallel-item {display: flex;flex-direction: column;z-index: 1;position: relative;background-color: white;}#sk-container-id-3 div.sk-parallel-item:first-child::after {align-self: flex-end;width: 50%;}#sk-container-id-3 div.sk-parallel-item:last-child::after {align-self: flex-start;width: 50%;}#sk-container-id-3 div.sk-parallel-item:only-child::after {width: 0;}#sk-container-id-3 div.sk-dashed-wrapped {border: 1px dashed gray;margin: 0 0.4em 0.5em 0.4em;box-sizing: border-box;padding-bottom: 0.4em;background-color: white;}#sk-container-id-3 div.sk-label label {font-family: monospace;font-weight: bold;display: inline-block;line-height: 1.2em;}#sk-container-id-3 div.sk-label-container {text-align: center;}#sk-container-id-3 div.sk-container {/* jupyter's `normalize.less` sets `[hidden] { display: none; }` but bootstrap.min.css set `[hidden] { display: none !important; }` so we also need the `!important` here to be able to override the default hidden behavior on the sphinx rendered scikit-learn.org. See: https://github.com/scikit-learn/scikit-learn/issues/21755 */display: inline-block !important;position: relative;}#sk-container-id-3 div.sk-text-repr-fallback {display: none;}</style><div id=\"sk-container-id-3\" class=\"sk-top-container\"><div class=\"sk-text-repr-fallback\"><pre>GridSearchCV(cv=5, estimator=SVC(C=5, degree=4, kernel=&#x27;poly&#x27;),\n",
              "             param_grid=[{&#x27;C&#x27;: [15, 14, 13, 12, 11, 10, 1, 0.1, 0.001],\n",
              "                          &#x27;degree&#x27;: [1, 2, 3, 4, 5, 6, 7]}])</pre><b>In a Jupyter environment, please rerun this cell to show the HTML representation or trust the notebook. <br />On GitHub, the HTML representation is unable to render, please try loading this page with nbviewer.org.</b></div><div class=\"sk-container\" hidden><div class=\"sk-item sk-dashed-wrapped\"><div class=\"sk-label-container\"><div class=\"sk-label sk-toggleable\"><input class=\"sk-toggleable__control sk-hidden--visually\" id=\"sk-estimator-id-7\" type=\"checkbox\" ><label for=\"sk-estimator-id-7\" class=\"sk-toggleable__label sk-toggleable__label-arrow\">GridSearchCV</label><div class=\"sk-toggleable__content\"><pre>GridSearchCV(cv=5, estimator=SVC(C=5, degree=4, kernel=&#x27;poly&#x27;),\n",
              "             param_grid=[{&#x27;C&#x27;: [15, 14, 13, 12, 11, 10, 1, 0.1, 0.001],\n",
              "                          &#x27;degree&#x27;: [1, 2, 3, 4, 5, 6, 7]}])</pre></div></div></div><div class=\"sk-parallel\"><div class=\"sk-parallel-item\"><div class=\"sk-item\"><div class=\"sk-label-container\"><div class=\"sk-label sk-toggleable\"><input class=\"sk-toggleable__control sk-hidden--visually\" id=\"sk-estimator-id-8\" type=\"checkbox\" ><label for=\"sk-estimator-id-8\" class=\"sk-toggleable__label sk-toggleable__label-arrow\">estimator: SVC</label><div class=\"sk-toggleable__content\"><pre>SVC(C=5, degree=4, kernel=&#x27;poly&#x27;)</pre></div></div></div><div class=\"sk-serial\"><div class=\"sk-item\"><div class=\"sk-estimator sk-toggleable\"><input class=\"sk-toggleable__control sk-hidden--visually\" id=\"sk-estimator-id-9\" type=\"checkbox\" ><label for=\"sk-estimator-id-9\" class=\"sk-toggleable__label sk-toggleable__label-arrow\">SVC</label><div class=\"sk-toggleable__content\"><pre>SVC(C=5, degree=4, kernel=&#x27;poly&#x27;)</pre></div></div></div></div></div></div></div></div></div></div>"
            ]
          },
          "metadata": {},
          "execution_count": 21
        }
      ],
      "source": [
        "from sklearn.model_selection import GridSearchCV\n",
        "param_grids = [{'C': [15,14,13,12,11,10,1,0.1,0.001],'degree':[1, 2, 3, 4, 5, 6, 7]}]\n",
        "grid = GridSearchCV(model_3, param_grids, cv=5)\n",
        "grid.fit(X_train,y_train)"
      ]
    },
    {
      "cell_type": "code",
      "source": [
        "grid.best_score_, grid.best_params_"
      ],
      "metadata": {
        "colab": {
          "base_uri": "https://localhost:8080/"
        },
        "id": "E2Yv9g0-zpns",
        "outputId": "6bbdfa29-22d8-45ee-a998-39a91d4fd868"
      },
      "execution_count": 22,
      "outputs": [
        {
          "output_type": "execute_result",
          "data": {
            "text/plain": [
              "(0.9186813186813187, {'C': 15, 'degree': 4})"
            ]
          },
          "metadata": {},
          "execution_count": 22
        }
      ]
    },
    {
      "cell_type": "code",
      "source": [
        "start_time =timer()\n",
        "model_3 = svm.SVC(kernel='poly', C=15, degree=4)  #\n",
        "model_3.fit(X_train, y_train)\n",
        "y_pred =model_3.predict(X_test)\n",
        "end_time =timer()\n",
        "print(f'accuracy score: {accuracy_score(y_test, y_pred)}')\n",
        "print(f'train accuracy score: {accuracy_score(y_train, model_3.predict(X_train))}')\n",
        "print(f\"confusion matrix:{confusion_matrix(y_test,y_pred)}\")\n",
        "print_train_time(start_time, end_time)"
      ],
      "metadata": {
        "colab": {
          "base_uri": "https://localhost:8080/"
        },
        "id": "weO1vSPjz0Wh",
        "outputId": "01a18d70-96b8-4a26-cc4f-ccfb4883570d"
      },
      "execution_count": 28,
      "outputs": [
        {
          "output_type": "stream",
          "name": "stdout",
          "text": [
            "accuracy score: 0.9298245614035088\n",
            "train accuracy score: 0.9164835164835164\n",
            "confusion matrix:[[35  8]\n",
            " [ 0 71]]\n",
            "Train time : 0.014 seconds\n"
          ]
        },
        {
          "output_type": "execute_result",
          "data": {
            "text/plain": [
              "0.013587826000048153"
            ]
          },
          "metadata": {},
          "execution_count": 28
        }
      ]
    },
    {
      "cell_type": "code",
      "source": [
        "# feature selection\n",
        "# methods: https://machinelearningmastery.com/feature-selection-machine-learning-python/\n",
        "# here we implement the selectKBest method\n",
        "from sklearn.feature_selection import SelectKBest\n",
        "from sklearn.feature_selection import f_classif\n",
        "import matplotlib.pyplot as plt\n",
        "\n",
        "fs = SelectKBest(score_func=f_classif, k='all')\n",
        "fs.fit(X_train, y_train)\n",
        "X_train_fs = fs.transform(X_train)\n",
        "X_test_fs = fs.transform(X_test)\n",
        "plt.bar([i for i in range(len(fs.scores_))], fs.scores_)"
      ],
      "metadata": {
        "colab": {
          "base_uri": "https://localhost:8080/",
          "height": 448
        },
        "id": "KjqHtBLa0GfM",
        "outputId": "7d3eaca1-21bf-45de-a2a2-a87d92ef9d24"
      },
      "execution_count": 35,
      "outputs": [
        {
          "output_type": "execute_result",
          "data": {
            "text/plain": [
              "<BarContainer object of 30 artists>"
            ]
          },
          "metadata": {},
          "execution_count": 35
        },
        {
          "output_type": "display_data",
          "data": {
            "text/plain": [
              "<Figure size 640x480 with 1 Axes>"
            ],
            "image/png": "[encoded data removed]"
          },
          "metadata": {}
        }
      ]
    },
    {
      "cell_type": "code",
      "source": [
        "# choose the top 10 feature\n",
        "fs = SelectKBest(score_func=f_classif, k=10)\n",
        "fs.fit(X_train, y_train)\n",
        "X_train_fs = fs.transform(X_train)\n",
        "X_test_fs = fs.transform(X_test)"
      ],
      "metadata": {
        "id": "k8JH6F7O9V3_"
      },
      "execution_count": 36,
      "outputs": []
    },
    {
      "cell_type": "code",
      "source": [
        "X_train_fs.shape"
      ],
      "metadata": {
        "colab": {
          "base_uri": "https://localhost:8080/"
        },
        "id": "PwXnnVbL_BeW",
        "outputId": "b096de98-7027-4fc8-a402-d1814df2b41b"
      },
      "execution_count": 37,
      "outputs": [
        {
          "output_type": "execute_result",
          "data": {
            "text/plain": [
              "(455, 10)"
            ]
          },
          "metadata": {},
          "execution_count": 37
        }
      ]
    },
    {
      "cell_type": "code",
      "source": [
        "#make prediction after feature selected data\n",
        "start_time =timer()\n",
        "model_3 = svm.SVC(kernel='poly', C=15, degree=4)  #\n",
        "model_3.fit(X_train_fs, y_train)\n",
        "y_pred =model_3.predict(X_test_fs)\n",
        "end_time =timer()\n",
        "print(f'accuracy score: {accuracy_score(y_test, y_pred)}')\n",
        "print(f'train accuracy score: {accuracy_score(y_train, model_3.predict(X_train_fs))}')\n",
        "print(f\"confusion matrix:{confusion_matrix(y_test,y_pred)}\")\n",
        "print_train_time(start_time, end_time)"
      ],
      "metadata": {
        "colab": {
          "base_uri": "https://localhost:8080/"
        },
        "id": "2WxrTtYD_DiG",
        "outputId": "f4a85e97-7fef-4279-be31-5d790f0cb427"
      },
      "execution_count": 38,
      "outputs": [
        {
          "output_type": "stream",
          "name": "stdout",
          "text": [
            "accuracy score: 0.9298245614035088\n",
            "train accuracy score: 0.9164835164835164\n",
            "confusion matrix:[[35  8]\n",
            " [ 0 71]]\n",
            "Train time : 0.009 seconds\n"
          ]
        },
        {
          "output_type": "execute_result",
          "data": {
            "text/plain": [
              "0.008827296000163187"
            ]
          },
          "metadata": {},
          "execution_count": 38
        }
      ]
    },
    {
      "cell_type": "code",
      "source": [
        "# if we under selelct the feature (like only 4), see what's going on\n",
        "from sklearn.feature_selection import chi2\n",
        "fs = SelectKBest(score_func=chi2, k=2)\n",
        "fs.fit(X_train, y_train)\n",
        "X_train_fs = fs.transform(X_train)\n",
        "X_test_fs = fs.transform(X_test)"
      ],
      "metadata": {
        "id": "B1V1C8Jf_SZ5"
      },
      "execution_count": 43,
      "outputs": []
    },
    {
      "cell_type": "code",
      "source": [
        "X_train_fs.shape"
      ],
      "metadata": {
        "colab": {
          "base_uri": "https://localhost:8080/"
        },
        "id": "xP1bgKdv_9ZL",
        "outputId": "da09d16f-329e-4778-8250-5475da347042"
      },
      "execution_count": 44,
      "outputs": [
        {
          "output_type": "execute_result",
          "data": {
            "text/plain": [
              "(455, 2)"
            ]
          },
          "metadata": {},
          "execution_count": 44
        }
      ]
    },
    {
      "cell_type": "code",
      "source": [
        "start_time =timer()\n",
        "model_4 = svm.SVC(kernel='poly', C=15, degree=4)  #\n",
        "model_4.fit(X_train_fs, y_train)\n",
        "y_pred =model_4.predict(X_test_fs)\n",
        "end_time =timer()\n",
        "print(f'accuracy score: {accuracy_score(y_test, y_pred)}')\n",
        "print(f'train accuracy score: {accuracy_score(y_train, model_4.predict(X_train_fs))}')\n",
        "print(f\"confusion matrix:{confusion_matrix(y_test,y_pred)}\")\n",
        "print_train_time(start_time, end_time)"
      ],
      "metadata": {
        "colab": {
          "base_uri": "https://localhost:8080/"
        },
        "id": "ytS1IxLM__ru",
        "outputId": "c8015b8e-0c5b-486c-81d4-fdf4c0b55bd8"
      },
      "execution_count": 45,
      "outputs": [
        {
          "output_type": "stream",
          "name": "stdout",
          "text": [
            "accuracy score: 0.9385964912280702\n",
            "train accuracy score: 0.9230769230769231\n",
            "confusion matrix:[[36  7]\n",
            " [ 0 71]]\n",
            "Train time : 0.025 seconds\n"
          ]
        },
        {
          "output_type": "execute_result",
          "data": {
            "text/plain": [
              "0.025108032999924035"
            ]
          },
          "metadata": {},
          "execution_count": 45
        }
      ]
    },
    {
      "cell_type": "markdown",
      "source": [
        "#Conclusion\n",
        "1. custom implement of linear SVM\n",
        "2. sklearn implement of liearn poly and rbf kernelized SVM\n",
        "3. use grid search for hyperparameters (learn to use Guassian process later)\n",
        "4. model performance is  sentitive to hyperparametesr (regularization, overfitting)\n",
        "5. use fetaure selection to preprocess data  to reduce computation time, remove noise data\n",
        "6. suprisingly, in this case, only 2 features is enough to make good prediction; more features doesn't improve accuracy.\n",
        "\n",
        "\n"
      ],
      "metadata": {
        "id": "P3PdOIYBACLe"
      }
    },
    {
      "cell_type": "code",
      "source": [],
      "metadata": {
        "id": "lfizkWjXA3HM"
      },
      "execution_count": null,
      "outputs": []
    }
  ],
  "metadata": {
    "colab": {
      "provenance": [],
      "authorship_tag": "ABX9TyOIznO9Mc9CeVc/z2vFWxe4",
      "include_colab_link": true
    },
    "kernelspec": {
      "display_name": "Python 3",
      "name": "python3"
    },
    "language_info": {
      "name": "python"
    }
  },
  "nbformat": 4,
  "nbformat_minor": 0
}